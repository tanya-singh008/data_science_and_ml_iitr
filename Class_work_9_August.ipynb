{
 "cells": [
  {
   "cell_type": "code",
   "execution_count": 1,
   "metadata": {},
   "outputs": [],
   "source": [
    "import math"
   ]
  },
  {
   "cell_type": "code",
   "execution_count": 4,
   "metadata": {},
   "outputs": [],
   "source": [
    "math.exp?"
   ]
  },
  {
   "cell_type": "code",
   "execution_count": 5,
   "metadata": {},
   "outputs": [
    {
     "data": {
      "text/plain": [
       "3.141592653589793"
      ]
     },
     "execution_count": 5,
     "metadata": {},
     "output_type": "execute_result"
    }
   ],
   "source": [
    "math.pi"
   ]
  },
  {
   "cell_type": "markdown",
   "metadata": {},
   "source": [
    "Git commands\n",
    "\n",
    "git fsck - git fsck is a command used to verify the validity and connectivity of objects in a Git repository. It checks for any corrupted or inconsistent objects within the repository and helps in identifying potential issues. This command does not make any modifications to the repository. "
   ]
  },
  {
   "cell_type": "code",
   "execution_count": 24,
   "metadata": {},
   "outputs": [
    {
     "name": "stdout",
     "output_type": "stream",
     "text": [
      " multiply_recur(4,3)\n",
      "\t multiply_recur(4,2)\n",
      "\t\t multiply_recur(4,1)\n",
      "\t\t\t multiply_recur(4,0)\n",
      "\t\t\t Returning 0\n",
      "\t\t Returning 4\n",
      "\t Returning 8\n",
      " Returning 12\n"
     ]
    },
    {
     "data": {
      "text/plain": [
       "12"
      ]
     },
     "execution_count": 24,
     "metadata": {},
     "output_type": "execute_result"
    }
   ],
   "source": [
    "# Task : Multiply without using asterisk\n",
    "\n",
    "# M1 : Loop\n",
    "def multiply(a, b): # integer multiplication without using asterik(*) : you can use +\n",
    "    result = 0 # Optimization : Choose the lesser of a and b\n",
    "    for i in range(b):\n",
    "        result += a\n",
    "    return result\n",
    "\n",
    "multiply(3, 4)\n",
    "\n",
    "# M2 : Recursion\n",
    "def multiply_recursive(a, b):\n",
    "    if(b == 0):\n",
    "        return 0\n",
    "    return a + multiply_recursive(a, b-1)\n",
    "\n",
    "multiply_recursive(6, 8)\n",
    "\n",
    "def multiply_recur(a, b, ind=\"\"):\n",
    "    print(f\"{ind} multiply_recur({a},{b})\")\n",
    "    if b==0:\n",
    "        print(f\"{ind} Returning {0}\")\n",
    "        return 0\n",
    "    r = multiply_recur(a, b-1, ind + \"\\t\")\n",
    "    ans = a + r\n",
    "    print(f\"{ind} Returning {ans}\")\n",
    "    return ans\n",
    "multiply_recur(4,3)"
   ]
  },
  {
   "cell_type": "code",
   "execution_count": 20,
   "metadata": {},
   "outputs": [],
   "source": [
    "# Mathematical induction"
   ]
  },
  {
   "cell_type": "markdown",
   "metadata": {},
   "source": [
    "The total sum of angles of a polygon is (n-2) * 180\n",
    "1. Test it for n = 0, 1\n",
    "2. Assume that it works for n\n",
    "3. Then derive for n+1"
   ]
  },
  {
   "cell_type": "code",
   "execution_count": 31,
   "metadata": {},
   "outputs": [
    {
     "data": {
      "text/plain": [
       "16"
      ]
     },
     "execution_count": 31,
     "metadata": {},
     "output_type": "execute_result"
    }
   ],
   "source": [
    "# Compute power num to the power integer\n",
    "# You can't use math.pow or **\n",
    "# You can use *, +, -, if, else\n",
    "def pow_rec(a, b):\n",
    "    if b == 0:\n",
    "        return 1\n",
    "    return a * pow_rec(a, b-1)\n",
    "#pow_rec(2, 3)\n",
    "\n",
    "def pow_loop(a, b):\n",
    "    result = 1\n",
    "    for i in range(b):\n",
    "        result *= a\n",
    "    return result\n",
    "\n",
    "pow_loop(4, 2)"
   ]
  },
  {
   "cell_type": "code",
   "execution_count": 27,
   "metadata": {},
   "outputs": [
    {
     "data": {
      "text/plain": [
       "1"
      ]
     },
     "execution_count": 27,
     "metadata": {},
     "output_type": "execute_result"
    }
   ],
   "source": [
    "pow(0, 0)"
   ]
  },
  {
   "cell_type": "markdown",
   "metadata": {},
   "source": [
    "Power : num ** exp\n",
    "1. num multiplied by itself exp times - 0^0 -> 0 | pow_loop_A(a, b)\n",
    "\n",
    "2. 1 multiplied with num exp times - 0^0 -> 1 # This is the definition that is accepted | pow_loop(a,b) ✅"
   ]
  },
  {
   "cell_type": "code",
   "execution_count": 33,
   "metadata": {},
   "outputs": [],
   "source": [
    "def pow_loop_A(a, b): \n",
    "    result = a\n",
    "    for i in range(b-1):\n",
    "        result = result * a\n",
    "\n",
    "    return result\n",
    "    "
   ]
  },
  {
   "cell_type": "code",
   "execution_count": 34,
   "metadata": {},
   "outputs": [
    {
     "data": {
      "text/plain": [
       "0"
      ]
     },
     "execution_count": 34,
     "metadata": {},
     "output_type": "execute_result"
    }
   ],
   "source": [
    "pow_loop_A(0, 0)"
   ]
  },
  {
   "cell_type": "code",
   "execution_count": 35,
   "metadata": {},
   "outputs": [
    {
     "data": {
      "text/plain": [
       "9"
      ]
     },
     "execution_count": 35,
     "metadata": {},
     "output_type": "execute_result"
    }
   ],
   "source": [
    "pow_loop(3, 2)"
   ]
  },
  {
   "cell_type": "code",
   "execution_count": 57,
   "metadata": {},
   "outputs": [],
   "source": [
    "# Tower of Hanoi\n",
    "def print_move(n, source, target, ind):\n",
    "    # n = 1\n",
    "    # source = \"A\"\n",
    "    # aux = \"B\"\n",
    "    # target = \"C\"\n",
    "    print(f\"{ind}Move  {n} from {source} to {target}\")"
   ]
  },
  {
   "cell_type": "code",
   "execution_count": 48,
   "metadata": {},
   "outputs": [],
   "source": [
    "def move2(n, source, aux, target):\n",
    "    #n = 2\n",
    "    move1(n-1, source, aux)\n",
    "    move1(n, source, target)\n",
    "    move1(n-1, aux, target)"
   ]
  },
  {
   "cell_type": "code",
   "execution_count": 49,
   "metadata": {},
   "outputs": [
    {
     "name": "stdout",
     "output_type": "stream",
     "text": [
      "Move  1 from S to A\n",
      "Move  2 from S to T\n",
      "Move  1 from A to T\n"
     ]
    }
   ],
   "source": [
    "move2(2, \"S\", \"A\", \"T\")    "
   ]
  },
  {
   "cell_type": "code",
   "execution_count": 58,
   "metadata": {},
   "outputs": [],
   "source": [
    "def move(n, source, aux, target, ind=''):\n",
    "    if n == 1:\n",
    "        print_move(n, source, target, ind)\n",
    "    else:\n",
    "        move(n-1, source, target, aux, ind+'  ')\n",
    "        print_move(n, source, target, ind)\n",
    "        move(n-1, aux, source, target, ind+'  ')\n"
   ]
  },
  {
   "cell_type": "code",
   "execution_count": 59,
   "metadata": {},
   "outputs": [
    {
     "name": "stdout",
     "output_type": "stream",
     "text": [
      "      Move  1 from A to B\n",
      "    Move  2 from A to C\n",
      "      Move  1 from B to C\n",
      "  Move  3 from A to B\n",
      "      Move  1 from C to A\n",
      "    Move  2 from C to B\n",
      "      Move  1 from A to B\n",
      "Move  4 from A to C\n",
      "      Move  1 from B to C\n",
      "    Move  2 from B to A\n",
      "      Move  1 from C to A\n",
      "  Move  3 from B to C\n",
      "      Move  1 from A to B\n",
      "    Move  2 from A to C\n",
      "      Move  1 from B to C\n"
     ]
    }
   ],
   "source": [
    "move(4, \"A\", \"B\", \"C\")"
   ]
  },
  {
   "cell_type": "code",
   "execution_count": 29,
   "metadata": {},
   "outputs": [
    {
     "name": "stdout",
     "output_type": "stream",
     "text": [
      "--Move 1 from A to C\n",
      "-Move 2 from A to B\n",
      "--Move 1 from C to B\n",
      "Move 3 from A to C\n",
      "--Move 1 from B to A\n",
      "-Move 2 from B to C\n",
      "--Move 1 from A to C\n"
     ]
    }
   ],
   "source": [
    "# Solving tower of hanoi\n",
    "def print_move(n, source, target, ind):\n",
    "    print(f\"{ind}Move {n} from {source} to {target}\")\n",
    "\n",
    "def move(n, source, target, aux, ind=''):\n",
    "    if (n == 1):\n",
    "        print_move(n, source, target, ind)\n",
    "    else :\n",
    "        move(n-1, source, aux, target, ind+'-')\n",
    "        print_move(n, source, target, ind)\n",
    "        move(n-1, aux, target, source, ind+'-')\n",
    "        \n",
    "\n",
    "move(3, \"A\", \"C\", \"B\")"
   ]
  },
  {
   "cell_type": "code",
   "execution_count": null,
   "metadata": {},
   "outputs": [],
   "source": []
  }
 ],
 "metadata": {
  "kernelspec": {
   "display_name": "Python3.10",
   "language": "python",
   "name": "python3.10"
  },
  "language_info": {
   "codemirror_mode": {
    "name": "ipython",
    "version": 3
   },
   "file_extension": ".py",
   "mimetype": "text/x-python",
   "name": "python",
   "nbconvert_exporter": "python",
   "pygments_lexer": "ipython3",
   "version": "3.10.14"
  },
  "toc": {
   "base_numbering": 1,
   "nav_menu": {},
   "number_sections": true,
   "sideBar": true,
   "skip_h1_title": false,
   "title_cell": "Table of Contents",
   "title_sidebar": "Contents",
   "toc_cell": false,
   "toc_position": {},
   "toc_section_display": true,
   "toc_window_display": false
  }
 },
 "nbformat": 4,
 "nbformat_minor": 2
}
