{
 "cells": [
  {
   "cell_type": "code",
   "execution_count": 3,
   "metadata": {},
   "outputs": [],
   "source": [
    "import random"
   ]
  },
  {
   "cell_type": "code",
   "execution_count": null,
   "metadata": {},
   "outputs": [],
   "source": []
  },
  {
   "cell_type": "code",
   "execution_count": 5,
   "metadata": {},
   "outputs": [
    {
     "data": {
      "text/plain": [
       "3"
      ]
     },
     "execution_count": 5,
     "metadata": {},
     "output_type": "execute_result"
    }
   ],
   "source": [
    "# Generate a decimal random number between 0 and 10\n",
    "int(10*random.random())"
   ]
  },
  {
   "cell_type": "code",
   "execution_count": 8,
   "metadata": {},
   "outputs": [
    {
     "data": {
      "text/plain": [
       "1"
      ]
     },
     "execution_count": 8,
     "metadata": {},
     "output_type": "execute_result"
    }
   ],
   "source": [
    "# Create a cointoss - H or T\n",
    "round(random.random())"
   ]
  },
  {
   "cell_type": "code",
   "execution_count": null,
   "metadata": {},
   "outputs": [],
   "source": [
    "1. Multinomial distribution, chanced distribution"
   ]
  },
  {
   "cell_type": "code",
   "execution_count": null,
   "metadata": {},
   "outputs": [],
   "source": [
    "# Most of the big data models use randomness a lot\n",
    "# Training a reinforcement learning model; learning and utilising that learning is happening at the same time so robot will also have the problem in learning new things if it goes by the learning so far. because of taking perfect action everytime, you need to train with unfair data when learning and utlisation of learning takes the same time"
   ]
  },
  {
   "cell_type": "code",
   "execution_count": 26,
   "metadata": {},
   "outputs": [],
   "source": [
    "def cointoss():\n",
    "    if random.random() < 0.5: # [0, 0.5)\n",
    "        return 0\n",
    "    else:\n",
    "        return 1 # [0.5, 1) Tail\n",
    "        "
   ]
  },
  {
   "cell_type": "code",
   "execution_count": 31,
   "metadata": {},
   "outputs": [],
   "source": [
    "def measurement(f):\n",
    "    loop_count = 100000\n",
    "    h = 0\n",
    "    for i in range(loop_count):\n",
    "        ret = f()\n",
    "        h += ret\n",
    "    print(f\"H: {h/loop_count}\")"
   ]
  },
  {
   "cell_type": "code",
   "execution_count": 32,
   "metadata": {},
   "outputs": [
    {
     "name": "stdout",
     "output_type": "stream",
     "text": [
      "H: 0.49933\n"
     ]
    }
   ],
   "source": [
    "measurement(cointoss)"
   ]
  },
  {
   "cell_type": "code",
   "execution_count": null,
   "metadata": {},
   "outputs": [],
   "source": [
    "# Why is there randomness in chatgpt and how do you control that randomness"
   ]
  },
  {
   "cell_type": "code",
   "execution_count": null,
   "metadata": {},
   "outputs": [],
   "source": [
    "# Design a dice - 0, 1, 2, 3, 4, 5, 6\n",
    "# Condition : use random.random()\n"
   ]
  },
  {
   "cell_type": "code",
   "execution_count": null,
   "metadata": {},
   "outputs": [],
   "source": [
    "# Environment (Screen of Mario) ---> Model -> Press left(0.1), Right 0.88, Up 0.01, Down 0.01"
   ]
  },
  {
   "cell_type": "markdown",
   "metadata": {},
   "source": [
    "# Loop\n",
    "\n",
    "env = screenshot()\n",
    "# pl, pr, pb, pd = model(env)\n",
    "\n",
    "probs = model(env)\n",
    "action = choose_action() # argmax(pl, pr, pu, pd) binsearch = may take all actions\n",
    "rewards = take_action(action)\n",
    "\n",
    "model.learn(env, action, rewards)\n",
    "# somewhere between the best action vs completely random"
   ]
  },
  {
   "cell_type": "code",
   "execution_count": null,
   "metadata": {},
   "outputs": [],
   "source": [
    "# Greedy case"
   ]
  },
  {
   "cell_type": "code",
   "execution_count": 34,
   "metadata": {},
   "outputs": [],
   "source": [
    "def biased_coin(prob_h): # if prob_h = 0.9, approximately print head 9 times and tail 1 time\n",
    "    if random.random() < prob_h:\n",
    "        return 1 # Head\n",
    "    else:\n",
    "        return 0 # Tail"
   ]
  },
  {
   "cell_type": "code",
   "execution_count": 36,
   "metadata": {},
   "outputs": [
    {
     "name": "stdout",
     "output_type": "stream",
     "text": [
      "H: 0.60034\n"
     ]
    }
   ],
   "source": [
    "measurement(lambda: biased_coin(0.6))"
   ]
  },
  {
   "cell_type": "code",
   "execution_count": 61,
   "metadata": {},
   "outputs": [
    {
     "data": {
      "text/plain": [
       "2"
      ]
     },
     "execution_count": 61,
     "metadata": {},
     "output_type": "execute_result"
    }
   ],
   "source": [
    "# Q. probs: [0.1, 0.2, 0.7] -> return 0 with 0.1, 1 with 0.2, and 2 with 0.7\n",
    "# Important machine learning coding question\n",
    "def choose_action(probs):\n",
    "    r = random.random()\n",
    "    if r < probs[0]:\n",
    "        return 0\n",
    "    elif r < probs[1] + probs[0]:\n",
    "        return 1\n",
    "    elif r < probs[2] + probs[1] + probs[0]:\n",
    "        return 2\n",
    "\n",
    "choose_action([0.1, 0.2, 0.7])"
   ]
  },
  {
   "cell_type": "code",
   "execution_count": 62,
   "metadata": {},
   "outputs": [],
   "source": [
    "def test_three():\n",
    "    lc = 100000\n",
    "    c1, c2, c3 = 0, 0, 0\n",
    "    for i in range(lc):\n",
    "        res = choose_action([0.1, 0.7, 0.3])\n",
    "        if res == 0:\n",
    "            c1 += 1\n",
    "        elif res == 1:\n",
    "            c2 += 1\n",
    "        else:\n",
    "            c3 += 1\n",
    "    print(f\"{c1/lc}, {c2/lc}, {c3/ lc}\")"
   ]
  },
  {
   "cell_type": "code",
   "execution_count": 63,
   "metadata": {},
   "outputs": [
    {
     "name": "stdout",
     "output_type": "stream",
     "text": [
      "0.0977, 0.70125, 0.20105\n"
     ]
    }
   ],
   "source": [
    "test_three()"
   ]
  },
  {
   "cell_type": "markdown",
   "metadata": {},
   "source": [
    "# Law of large numbers\n",
    "As you keep on increasing the chances or sample size, they will all become normal"
   ]
  },
  {
   "cell_type": "code",
   "execution_count": null,
   "metadata": {},
   "outputs": [],
   "source": [
    "Uses of randomness:\n",
    "    1. Exploration\n",
    "    2. Random inputs - To test for unforeseen circumstances\n",
    "    3. Entire world\n"
   ]
  },
  {
   "cell_type": "code",
   "execution_count": 68,
   "metadata": {},
   "outputs": [],
   "source": [
    "# Generalising choose_action\n",
    "\n",
    "def choose_action_(p):\n",
    "    r = random.random()\n",
    "    probs = p.copy()\n",
    "    l = len(probs)\n",
    "    counter = [0] * l\n",
    "    for i in range(1, l):\n",
    "        probs[i] = probs[i-1] + probs[i]\n",
    "    for i in range(l):\n",
    "        if r < probs[i]:\n",
    "            return i\n",
    "    return None # return l - 1\n",
    "    print(probs)"
   ]
  },
  {
   "cell_type": "code",
   "execution_count": 69,
   "metadata": {},
   "outputs": [],
   "source": [
    "# choose_action_([0.1, 0.2, 0.5, 0, 0.2])"
   ]
  },
  {
   "cell_type": "code",
   "execution_count": 78,
   "metadata": {},
   "outputs": [],
   "source": [
    "def test():\n",
    "    lc = 1000\n",
    "    counter = [0] * 5\n",
    "    for i in range(lc):\n",
    "        res = choose_action_([0.1, 0.5, 0.2, 0, 0.2])\n",
    "        if res == 0:\n",
    "            counter[0]+=1\n",
    "        elif res == 1:\n",
    "            counter[1]+=1\n",
    "        elif res == 2:\n",
    "            counter[2]+=1\n",
    "        elif res == 3:\n",
    "            counter[3]+=1\n",
    "        else:\n",
    "            counter[4]+=1\n",
    "    print(f\"{counter[0]/lc}, {counter[1]/lc}, {counter[2]/lc}, {counter[3]/lc}, {counter[4]/lc}\")"
   ]
  },
  {
   "cell_type": "code",
   "execution_count": 79,
   "metadata": {},
   "outputs": [
    {
     "name": "stdout",
     "output_type": "stream",
     "text": [
      "0.09, 0.514, 0.192, 0.0, 0.204\n"
     ]
    }
   ],
   "source": [
    "# upto recursive divide, skip huber distance\n",
    "test()"
   ]
  },
  {
   "cell_type": "code",
   "execution_count": null,
   "metadata": {},
   "outputs": [],
   "source": [
    "# is a point inside a rectangle # question on splitting data"
   ]
  },
  {
   "cell_type": "code",
   "execution_count": null,
   "metadata": {},
   "outputs": [],
   "source": [
    "# definition 1\n",
    "1 - abs(difference of probabilities) # definition of impurity\n",
    "# find average, find distance of average and then sum it up\n",
    "# choose the largest one as a benchmark, then calculate standard deviation and see how much the purity is \n"
   ]
  },
  {
   "cell_type": "code",
   "execution_count": null,
   "metadata": {},
   "outputs": [],
   "source": [
    "# the more is the square, more is the impurity \n",
    "area = x(1-x)"
   ]
  },
  {
   "cell_type": "markdown",
   "metadata": {},
   "source": [
    "Classic definitions of impurity\n",
    "First 2 classes, then more\n",
    "\n",
    "Future - Split the set to make the new sets much more pure and then we will compute how much purity have we added becasue of splitting the set"
   ]
  },
  {
   "cell_type": "markdown",
   "metadata": {},
   "source": [
    "Compute factorial using recursion, Euclid method -> use recursion to compute HCF"
   ]
  },
  {
   "cell_type": "code",
   "execution_count": null,
   "metadata": {},
   "outputs": [],
   "source": []
  }
 ],
 "metadata": {
  "kernelspec": {
   "display_name": "Python 3",
   "language": "python",
   "name": "python3"
  },
  "language_info": {
   "codemirror_mode": {
    "name": "ipython",
    "version": 3
   },
   "file_extension": ".py",
   "mimetype": "text/x-python",
   "name": "python",
   "nbconvert_exporter": "python",
   "pygments_lexer": "ipython3",
   "version": "3.6.8"
  },
  "toc": {
   "base_numbering": 1,
   "nav_menu": {},
   "number_sections": true,
   "sideBar": true,
   "skip_h1_title": false,
   "title_cell": "Table of Contents",
   "title_sidebar": "Contents",
   "toc_cell": false,
   "toc_position": {},
   "toc_section_display": true,
   "toc_window_display": false
  }
 },
 "nbformat": 4,
 "nbformat_minor": 2
}
